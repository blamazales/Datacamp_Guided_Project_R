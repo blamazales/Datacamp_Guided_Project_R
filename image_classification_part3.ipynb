{
  "cells": [
    {
      "cell_type": "markdown",
      "metadata": {
        "id": "jTEzoMx6CasV"
      },
      "source": [
        "#### Copyright 2018 Google LLC."
      ]
    },
    {
      "cell_type": "code",
      "execution_count": 2,
      "metadata": {
        "id": "IhmPj1VVCfWb"
      },
      "outputs": [],
      "source": [
        "# Licensed under the Apache License, Version 2.0 (the \"License\");\n",
        "# you may not use this file except in compliance with the License.\n",
        "# You may obtain a copy of the License at\n",
        "#\n",
        "# https://www.apache.org/licenses/LICENSE-2.0\n",
        "#\n",
        "# Unless required by applicable law or agreed to in writing, software\n",
        "# distributed under the License is distributed on an \"AS IS\" BASIS,\n",
        "# WITHOUT WARRANTIES OR CONDITIONS OF ANY KIND, either express or implied.\n",
        "# See the License for the specific language governing permissions and\n",
        "# limitations under the License."
      ]
    },
    {
      "cell_type": "markdown",
      "metadata": {
        "id": "YHK6DyunSbs4"
      },
      "source": [
        "# Cat vs. Dog Image Classification\n",
        "## Exercise 3: Feature Extraction and Fine-Tuning\n",
        "**_Estimated completion time: 30 minutes_**\n",
        "\n",
        "In Exercise 1, we built a convnet from scratch, and were able to achieve an accuracy of about 70%. With the addition of data augmentation and dropout in Exercise 2, we were able to increase accuracy to about 80%. That seems decent, but 20% is still too high of an error rate. Maybe we just don't have enough training data available to properly solve the problem. What other approaches can we try?\n",
        "\n",
        "In this exercise, we'll look at two techniques for repurposing feature data generated from image models that have already been trained on large sets of data, **feature extraction** and **fine tuning**, and use them to improve the accuracy of our cat vs. dog classification model."
      ]
    },
    {
      "cell_type": "markdown",
      "metadata": {
        "id": "dI5rmt4UBwXs"
      },
      "source": [
        "## Feature Extraction Using a Pretrained Model\n",
        "\n",
        "One thing that is commonly done in computer vision is to take a model trained on a very large dataset, run it on your own, smaller dataset, and extract the intermediate representations (features) that the model generates. These representations are frequently informative for your own computer vision task, even though the task may be quite different from the problem that the original model was trained on. This versatility and repurposability of convnets is one of the most interesting aspects of deep learning.\n",
        "\n",
        "In our case, we will use the [Inception V3 model](https://arxiv.org/abs/1512.00567) developed at Google, and pre-trained on [ImageNet](http://image-net.org/), a large dataset of web images (1.4M images and 1000 classes). This is a powerful model; let's see what the features that it has learned can do for our cat vs. dog problem.\n",
        "\n",
        "First, we need to pick which intermediate layer of Inception V3 we will use for feature extraction. A common practice is to use the output of the very last layer before the `Flatten` operation, the so-called \"bottleneck layer.\" The reasoning here is that the following fully connected layers will be too specialized for the task the network was trained on, and thus the features learned by these layers won't be very useful for a new task. The bottleneck features, however, retain much generality.\n",
        "\n",
        "Let's instantiate an Inception V3 model preloaded with weights trained on ImageNet:\n"
      ]
    },
    {
      "cell_type": "code",
      "execution_count": 3,
      "metadata": {
        "id": "1xJZ5glPPCRz"
      },
      "outputs": [],
      "source": [
        "import os\n",
        "\n",
        "from tensorflow.keras import layers\n",
        "from tensorflow.keras import Model"
      ]
    },
    {
      "cell_type": "markdown",
      "metadata": {
        "id": "VaXLMtYiF0t9"
      },
      "source": [
        "Now let's download the weights:"
      ]
    },
    {
      "cell_type": "code",
      "execution_count": 4,
      "metadata": {
        "colab": {
          "base_uri": "https://localhost:8080/"
        },
        "id": "KMrbllgAFipZ",
        "outputId": "f74f8c6d-b0ac-45ee-ff14-07644e93a6c1"
      },
      "outputs": [
        {
          "output_type": "stream",
          "name": "stdout",
          "text": [
            "--2024-02-29 15:26:12--  https://storage.googleapis.com/mledu-datasets/inception_v3_weights_tf_dim_ordering_tf_kernels_notop.h5\n",
            "Resolving storage.googleapis.com (storage.googleapis.com)... 142.250.97.207, 142.251.107.207, 74.125.196.207, ...\n",
            "Connecting to storage.googleapis.com (storage.googleapis.com)|142.250.97.207|:443... connected.\n",
            "HTTP request sent, awaiting response... 200 OK\n",
            "Length: 87910968 (84M) [application/x-hdf]\n",
            "Saving to: ‘/tmp/inception_v3_weights_tf_dim_ordering_tf_kernels_notop.h5’\n",
            "\n",
            "/tmp/inception_v3_w 100%[===================>]  83.84M   165MB/s    in 0.5s    \n",
            "\n",
            "2024-02-29 15:26:12 (165 MB/s) - ‘/tmp/inception_v3_weights_tf_dim_ordering_tf_kernels_notop.h5’ saved [87910968/87910968]\n",
            "\n"
          ]
        }
      ],
      "source": [
        "!wget --no-check-certificate \\\n",
        "    https://storage.googleapis.com/mledu-datasets/inception_v3_weights_tf_dim_ordering_tf_kernels_notop.h5 \\\n",
        "    -O /tmp/inception_v3_weights_tf_dim_ordering_tf_kernels_notop.h5"
      ]
    },
    {
      "cell_type": "code",
      "execution_count": 5,
      "metadata": {
        "id": "UnRiGBfOF8rq"
      },
      "outputs": [],
      "source": [
        "from tensorflow.keras.applications.inception_v3 import InceptionV3\n",
        "\n",
        "local_weights_file = '/tmp/inception_v3_weights_tf_dim_ordering_tf_kernels_notop.h5'\n",
        "pre_trained_model = InceptionV3(\n",
        "    input_shape=(150, 150, 3), include_top=False, weights=None)\n",
        "pre_trained_model.load_weights(local_weights_file)"
      ]
    },
    {
      "cell_type": "markdown",
      "metadata": {
        "id": "IcYZPBS3bTAj"
      },
      "source": [
        "By specifying the `include_top=False` argument, we load a network that doesn't include the classification layers at the top—ideal for feature extraction."
      ]
    },
    {
      "cell_type": "markdown",
      "metadata": {
        "id": "CFxrqTuJee5m"
      },
      "source": [
        "Let's make the model non-trainable, since we will only use it for feature extraction; we won't update the weights of the pretrained model during training."
      ]
    },
    {
      "cell_type": "code",
      "execution_count": 6,
      "metadata": {
        "id": "a38rB3lyedcB"
      },
      "outputs": [],
      "source": [
        "for layer in pre_trained_model.layers:\n",
        "  layer.trainable = False"
      ]
    },
    {
      "cell_type": "markdown",
      "metadata": {
        "id": "XGBGDiOAepnO"
      },
      "source": [
        "The layer we will use for feature extraction in Inception v3 is called `mixed7`. It is not the bottleneck of the network, but we are using it to keep a sufficiently large feature map (7x7 in this case). (Using the bottleneck layer would have resulting in a 3x3 feature map, which is a bit small.) Let's get the output from `mixed7`:"
      ]
    },
    {
      "cell_type": "code",
      "execution_count": 7,
      "metadata": {
        "colab": {
          "base_uri": "https://localhost:8080/"
        },
        "id": "Cj4rXshqbQlS",
        "outputId": "bc0d2868-29a6-469e-937d-eee6dc22b8b5"
      },
      "outputs": [
        {
          "output_type": "stream",
          "name": "stdout",
          "text": [
            "last layer output shape: (None, 7, 7, 768)\n"
          ]
        }
      ],
      "source": [
        "last_layer = pre_trained_model.get_layer('mixed7')\n",
        "print('last layer output shape:', last_layer.output_shape)\n",
        "last_output = last_layer.output"
      ]
    },
    {
      "cell_type": "markdown",
      "metadata": {
        "id": "XxHk6XQLeUWh"
      },
      "source": [
        "Now let's stick a fully connected classifier on top of `last_output`:"
      ]
    },
    {
      "cell_type": "code",
      "execution_count": 8,
      "metadata": {
        "colab": {
          "base_uri": "https://localhost:8080/"
        },
        "id": "BMXb913pbvFg",
        "outputId": "f8264b63-dbb6-4bd6-c42d-9fe7cdf7a6c8"
      },
      "outputs": [
        {
          "output_type": "stream",
          "name": "stderr",
          "text": [
            "WARNING:absl:`lr` is deprecated in Keras optimizer, please use `learning_rate` or use the legacy optimizer, e.g.,tf.keras.optimizers.legacy.RMSprop.\n"
          ]
        }
      ],
      "source": [
        "from tensorflow.keras.optimizers import RMSprop\n",
        "\n",
        "# Flatten the output layer to 1 dimension\n",
        "x = layers.Flatten()(last_output)\n",
        "# Add a fully connected layer with 1,024 hidden units and ReLU activation\n",
        "x = layers.Dense(1024, activation='relu')(x)\n",
        "# Add a dropout rate of 0.2\n",
        "x = layers.Dropout(0.2)(x)\n",
        "# Add a final sigmoid layer for classification\n",
        "x = layers.Dense(1, activation='sigmoid')(x)\n",
        "\n",
        "# Configure and compile the model\n",
        "model = Model(pre_trained_model.input, x)\n",
        "model.compile(loss='binary_crossentropy',\n",
        "              optimizer=RMSprop(lr=0.0001),\n",
        "              metrics=['acc'])"
      ]
    },
    {
      "cell_type": "markdown",
      "metadata": {
        "id": "_6ECjowwV5Ug"
      },
      "source": [
        "For examples and data preprocessing, let's use the same files and `train_generator` as we did in Exercise 2."
      ]
    },
    {
      "cell_type": "markdown",
      "metadata": {
        "id": "Cl-IqOTjZVw_"
      },
      "source": [
        "**NOTE:** The 2,000 images used in this exercise are excerpted from the [\"Dogs vs. Cats\" dataset](https://www.kaggle.com/c/dogs-vs-cats/data) available on Kaggle, which contains 25,000 images. Here, we use a subset of the full dataset to decrease training time for educational purposes."
      ]
    },
    {
      "cell_type": "code",
      "execution_count": 9,
      "metadata": {
        "colab": {
          "base_uri": "https://localhost:8080/"
        },
        "id": "O4s8HckqGlnb",
        "outputId": "59232a87-2059-4544-8027-16b9a6cbb12d"
      },
      "outputs": [
        {
          "output_type": "stream",
          "name": "stdout",
          "text": [
            "--2024-02-29 15:26:36--  https://storage.googleapis.com/mledu-datasets/cats_and_dogs_filtered.zip\n",
            "Resolving storage.googleapis.com (storage.googleapis.com)... 142.250.97.207, 142.251.107.207, 74.125.196.207, ...\n",
            "Connecting to storage.googleapis.com (storage.googleapis.com)|142.250.97.207|:443... connected.\n",
            "HTTP request sent, awaiting response... 200 OK\n",
            "Length: 68606236 (65M) [application/zip]\n",
            "Saving to: ‘/tmp/cats_and_dogs_filtered.zip’\n",
            "\n",
            "/tmp/cats_and_dogs_ 100%[===================>]  65.43M   164MB/s    in 0.4s    \n",
            "\n",
            "2024-02-29 15:26:36 (164 MB/s) - ‘/tmp/cats_and_dogs_filtered.zip’ saved [68606236/68606236]\n",
            "\n"
          ]
        }
      ],
      "source": [
        "!wget --no-check-certificate \\\n",
        "   https://storage.googleapis.com/mledu-datasets/cats_and_dogs_filtered.zip -O \\\n",
        "   /tmp/cats_and_dogs_filtered.zip"
      ]
    },
    {
      "cell_type": "code",
      "execution_count": 10,
      "metadata": {
        "colab": {
          "base_uri": "https://localhost:8080/"
        },
        "id": "Fl9XXARuV_eg",
        "outputId": "12814f59-23be-4bc5-9c21-f54f65667608"
      },
      "outputs": [
        {
          "output_type": "stream",
          "name": "stdout",
          "text": [
            "Found 2000 images belonging to 2 classes.\n",
            "Found 1000 images belonging to 2 classes.\n"
          ]
        }
      ],
      "source": [
        "import os\n",
        "import zipfile\n",
        "\n",
        "from tensorflow.keras.preprocessing.image import ImageDataGenerator\n",
        "\n",
        "local_zip = '/tmp/cats_and_dogs_filtered.zip'\n",
        "zip_ref = zipfile.ZipFile(local_zip, 'r')\n",
        "zip_ref.extractall('/tmp')\n",
        "zip_ref.close()\n",
        "\n",
        "# Define our example directories and files\n",
        "base_dir = '/tmp/cats_and_dogs_filtered'\n",
        "train_dir = os.path.join(base_dir, 'train')\n",
        "validation_dir = os.path.join(base_dir, 'validation')\n",
        "\n",
        "# Directory with our training cat pictures\n",
        "train_cats_dir = os.path.join(train_dir, 'cats')\n",
        "\n",
        "# Directory with our training dog pictures\n",
        "train_dogs_dir = os.path.join(train_dir, 'dogs')\n",
        "\n",
        "# Directory with our validation cat pictures\n",
        "validation_cats_dir = os.path.join(validation_dir, 'cats')\n",
        "\n",
        "# Directory with our validation dog pictures\n",
        "validation_dogs_dir = os.path.join(validation_dir, 'dogs')\n",
        "\n",
        "train_cat_fnames = os.listdir(train_cats_dir)\n",
        "train_dog_fnames = os.listdir(train_dogs_dir)\n",
        "\n",
        "# Add our data-augmentation parameters to ImageDataGenerator\n",
        "train_datagen = ImageDataGenerator(\n",
        "    rescale=1./255,\n",
        "    rotation_range=40,\n",
        "    width_shift_range=0.2,\n",
        "    height_shift_range=0.2,\n",
        "    shear_range=0.2,\n",
        "    zoom_range=0.2,\n",
        "    horizontal_flip=True)\n",
        "\n",
        "# Note that the validation data should not be augmented!\n",
        "val_datagen = ImageDataGenerator(rescale=1./255)\n",
        "\n",
        "train_generator = train_datagen.flow_from_directory(\n",
        "        train_dir, # This is the source directory for training images\n",
        "        target_size=(150, 150),  # All images will be resized to 150x150\n",
        "        batch_size=20,\n",
        "        # Since we use binary_crossentropy loss, we need binary labels\n",
        "        class_mode='binary')\n",
        "\n",
        "# Flow validation images in batches of 20 using val_datagen generator\n",
        "validation_generator = val_datagen.flow_from_directory(\n",
        "        validation_dir,\n",
        "        target_size=(150, 150),\n",
        "        batch_size=20,\n",
        "        class_mode='binary')"
      ]
    },
    {
      "cell_type": "markdown",
      "metadata": {
        "id": "qEC1AL7iVRLz"
      },
      "source": [
        "Finally, let's train the model using the features we extracted. We'll train on all 2000 images available, for 2 epochs, and validate on all 1,000 validation images."
      ]
    },
    {
      "cell_type": "code",
      "execution_count": 11,
      "metadata": {
        "colab": {
          "base_uri": "https://localhost:8080/"
        },
        "id": "Blhq2MAUeyGA",
        "outputId": "3499b3ea-2ac2-4e5f-c3be-6ed38748c785"
      },
      "outputs": [
        {
          "output_type": "stream",
          "name": "stderr",
          "text": [
            "<ipython-input-11-223274cfaaff>:1: UserWarning: `Model.fit_generator` is deprecated and will be removed in a future version. Please use `Model.fit`, which supports generators.\n",
            "  history = model.fit_generator(\n"
          ]
        },
        {
          "output_type": "stream",
          "name": "stdout",
          "text": [
            "Epoch 1/2\n",
            "100/100 - 29s - loss: 0.8685 - acc: 0.8435 - val_loss: 0.6042 - val_acc: 0.8470 - 29s/epoch - 287ms/step\n",
            "Epoch 2/2\n",
            "100/100 - 17s - loss: 0.2760 - acc: 0.8940 - val_loss: 0.1051 - val_acc: 0.9550 - 17s/epoch - 173ms/step\n"
          ]
        }
      ],
      "source": [
        "history = model.fit_generator(\n",
        "      train_generator,\n",
        "      steps_per_epoch=100,\n",
        "      epochs=2,\n",
        "      validation_data=validation_generator,\n",
        "      validation_steps=50,\n",
        "      verbose=2)"
      ]
    },
    {
      "cell_type": "markdown",
      "metadata": {
        "id": "lRjyAkE62aOG"
      },
      "source": [
        "You can see that we reach a validation accuracy of 88–90% very quickly. This is much better than the small model we trained from scratch."
      ]
    },
    {
      "cell_type": "markdown",
      "metadata": {
        "id": "tt15y6IS2pBo"
      },
      "source": [
        "## Further Improving Accuracy with Fine-Tuning\n",
        "\n",
        "In our feature-extraction experiment, we only tried adding two classification layers on top of an Inception V3 layer. The weights of the pretrained network were not updated during training. One way to increase performance even further is to \"fine-tune\" the weights of the top layers of the pretrained model alongside the training of the top-level classifier. A couple of important notes on fine-tuning:\n",
        "\n",
        "- **Fine-tuning should only be attempted *after* you have trained the top-level classifier with the pretrained model set to non-trainable**. If you add a randomly initialized classifier on top of a pretrained model and attempt to train all layers jointly, the magnitude of the gradient updates will be too large (due to the random weights from the classifier), and your pretrained model will just forget everything it has learned.\n",
        "- Additionally, we **fine-tune only the *top layers* of the pre-trained model** rather than all layers of the pretrained model because, in a convnet, the higher up a layer is, the more specialized it is. The first few layers in a convnet learn very simple and generic features, which generalize to almost all types of images. But as you go higher up, the features are increasingly specific to the dataset that the model is trained on. The goal of fine-tuning is to adapt these specialized features to work with the new dataset.\n",
        "\n",
        "All we need to do to implement fine-tuning is to set the top layers of Inception V3 to be trainable, recompile the model (necessary for these changes to take effect), and resume training. Let's unfreeze all layers belonging to the `mixed7` module—i.e., all layers found after `mixed6`—and recompile the model:"
      ]
    },
    {
      "cell_type": "code",
      "execution_count": 12,
      "metadata": {
        "colab": {
          "base_uri": "https://localhost:8080/"
        },
        "id": "_l_J4S0Z2rgg",
        "outputId": "5570b6e2-64dc-4039-bf2f-a243c6af8477"
      },
      "outputs": [
        {
          "output_type": "stream",
          "name": "stderr",
          "text": [
            "WARNING:absl:`lr` is deprecated in Keras optimizer, please use `learning_rate` or use the legacy optimizer, e.g.,tf.keras.optimizers.legacy.SGD.\n"
          ]
        }
      ],
      "source": [
        "from tensorflow.keras.optimizers import SGD\n",
        "\n",
        "unfreeze = False\n",
        "\n",
        "# Unfreeze all models after \"mixed6\"\n",
        "for layer in pre_trained_model.layers:\n",
        "  if unfreeze:\n",
        "    layer.trainable = True\n",
        "  if layer.name == 'mixed6':\n",
        "    unfreeze = True\n",
        "\n",
        "# As an optimizer, here we will use SGD\n",
        "# with a very low learning rate (0.00001)\n",
        "model.compile(loss='binary_crossentropy',\n",
        "              optimizer=SGD(\n",
        "                  lr=0.00001,\n",
        "                  momentum=0.9),\n",
        "              metrics=['acc'])"
      ]
    },
    {
      "cell_type": "markdown",
      "metadata": {
        "id": "zE37ARlqY9da"
      },
      "source": [
        "Now let's retrain the model. We'll train on all 2000 images available, for 50 epochs, and validate on all 1,000 validation images. (This may take 15-20 minutes to run.)"
      ]
    },
    {
      "cell_type": "code",
      "execution_count": 14,
      "metadata": {
        "colab": {
          "base_uri": "https://localhost:8080/"
        },
        "id": "o_GgDGG4Y_hJ",
        "outputId": "f7233d82-d1c6-47c1-9695-de65967b2c94"
      },
      "outputs": [
        {
          "output_type": "stream",
          "name": "stdout",
          "text": [
            "Epoch 1/50\n"
          ]
        },
        {
          "output_type": "stream",
          "name": "stderr",
          "text": [
            "<ipython-input-14-cc858d536531>:1: UserWarning: `Model.fit_generator` is deprecated and will be removed in a future version. Please use `Model.fit`, which supports generators.\n",
            "  history = model.fit_generator(\n"
          ]
        },
        {
          "output_type": "stream",
          "name": "stdout",
          "text": [
            "100/100 - 26s - loss: 0.0181 - acc: 0.9930 - val_loss: 0.0725 - val_acc: 0.9750 - 26s/epoch - 255ms/step\n",
            "Epoch 2/50\n",
            "100/100 - 18s - loss: 0.0369 - acc: 0.9855 - val_loss: 0.0958 - val_acc: 0.9700 - 18s/epoch - 182ms/step\n",
            "Epoch 3/50\n",
            "100/100 - 17s - loss: 0.0205 - acc: 0.9940 - val_loss: 0.0843 - val_acc: 0.9700 - 17s/epoch - 172ms/step\n",
            "Epoch 4/50\n",
            "100/100 - 18s - loss: 0.0173 - acc: 0.9945 - val_loss: 0.0768 - val_acc: 0.9750 - 18s/epoch - 179ms/step\n",
            "Epoch 5/50\n",
            "100/100 - 17s - loss: 0.0255 - acc: 0.9915 - val_loss: 0.0872 - val_acc: 0.9750 - 17s/epoch - 171ms/step\n",
            "Epoch 6/50\n",
            "100/100 - 18s - loss: 0.0131 - acc: 0.9950 - val_loss: 0.0879 - val_acc: 0.9740 - 18s/epoch - 181ms/step\n",
            "Epoch 7/50\n",
            "100/100 - 18s - loss: 0.0167 - acc: 0.9925 - val_loss: 0.1257 - val_acc: 0.9700 - 18s/epoch - 184ms/step\n",
            "Epoch 8/50\n",
            "100/100 - 17s - loss: 0.0149 - acc: 0.9945 - val_loss: 0.1906 - val_acc: 0.9630 - 17s/epoch - 173ms/step\n",
            "Epoch 9/50\n",
            "100/100 - 17s - loss: 0.0206 - acc: 0.9925 - val_loss: 0.1093 - val_acc: 0.9760 - 17s/epoch - 171ms/step\n",
            "Epoch 10/50\n",
            "100/100 - 18s - loss: 0.0181 - acc: 0.9965 - val_loss: 0.1064 - val_acc: 0.9670 - 18s/epoch - 178ms/step\n",
            "Epoch 11/50\n",
            "100/100 - 17s - loss: 0.0218 - acc: 0.9925 - val_loss: 0.0871 - val_acc: 0.9770 - 17s/epoch - 171ms/step\n",
            "Epoch 12/50\n",
            "100/100 - 17s - loss: 0.0153 - acc: 0.9950 - val_loss: 0.0817 - val_acc: 0.9730 - 17s/epoch - 170ms/step\n",
            "Epoch 13/50\n",
            "100/100 - 18s - loss: 0.0186 - acc: 0.9945 - val_loss: 0.0864 - val_acc: 0.9750 - 18s/epoch - 182ms/step\n",
            "Epoch 14/50\n",
            "100/100 - 17s - loss: 0.0150 - acc: 0.9955 - val_loss: 0.0723 - val_acc: 0.9740 - 17s/epoch - 171ms/step\n",
            "Epoch 15/50\n",
            "100/100 - 18s - loss: 0.0153 - acc: 0.9940 - val_loss: 0.0836 - val_acc: 0.9790 - 18s/epoch - 182ms/step\n",
            "Epoch 16/50\n",
            "100/100 - 17s - loss: 0.0193 - acc: 0.9945 - val_loss: 0.0983 - val_acc: 0.9690 - 17s/epoch - 170ms/step\n",
            "Epoch 17/50\n",
            "100/100 - 18s - loss: 0.0181 - acc: 0.9925 - val_loss: 0.0737 - val_acc: 0.9790 - 18s/epoch - 178ms/step\n",
            "Epoch 18/50\n",
            "100/100 - 17s - loss: 0.0148 - acc: 0.9945 - val_loss: 0.0752 - val_acc: 0.9770 - 17s/epoch - 173ms/step\n",
            "Epoch 19/50\n",
            "100/100 - 18s - loss: 0.0201 - acc: 0.9925 - val_loss: 0.1057 - val_acc: 0.9650 - 18s/epoch - 182ms/step\n",
            "Epoch 20/50\n",
            "100/100 - 17s - loss: 0.0204 - acc: 0.9950 - val_loss: 0.0826 - val_acc: 0.9730 - 17s/epoch - 172ms/step\n",
            "Epoch 21/50\n",
            "100/100 - 18s - loss: 0.0159 - acc: 0.9945 - val_loss: 0.0659 - val_acc: 0.9790 - 18s/epoch - 180ms/step\n",
            "Epoch 22/50\n",
            "100/100 - 17s - loss: 0.0102 - acc: 0.9965 - val_loss: 0.0995 - val_acc: 0.9790 - 17s/epoch - 175ms/step\n",
            "Epoch 23/50\n",
            "100/100 - 18s - loss: 0.0149 - acc: 0.9950 - val_loss: 0.1466 - val_acc: 0.9680 - 18s/epoch - 179ms/step\n",
            "Epoch 24/50\n",
            "100/100 - 18s - loss: 0.0218 - acc: 0.9925 - val_loss: 0.1107 - val_acc: 0.9670 - 18s/epoch - 178ms/step\n",
            "Epoch 25/50\n",
            "100/100 - 18s - loss: 0.0105 - acc: 0.9965 - val_loss: 0.1547 - val_acc: 0.9650 - 18s/epoch - 184ms/step\n",
            "Epoch 26/50\n",
            "100/100 - 18s - loss: 0.0109 - acc: 0.9950 - val_loss: 0.0891 - val_acc: 0.9740 - 18s/epoch - 176ms/step\n",
            "Epoch 27/50\n",
            "100/100 - 21s - loss: 0.0138 - acc: 0.9950 - val_loss: 0.1109 - val_acc: 0.9760 - 21s/epoch - 207ms/step\n",
            "Epoch 28/50\n",
            "100/100 - 18s - loss: 0.0141 - acc: 0.9940 - val_loss: 0.0914 - val_acc: 0.9720 - 18s/epoch - 176ms/step\n",
            "Epoch 29/50\n",
            "100/100 - 18s - loss: 0.0110 - acc: 0.9950 - val_loss: 0.1500 - val_acc: 0.9680 - 18s/epoch - 184ms/step\n",
            "Epoch 30/50\n",
            "100/100 - 17s - loss: 0.0193 - acc: 0.9930 - val_loss: 0.1031 - val_acc: 0.9710 - 17s/epoch - 175ms/step\n",
            "Epoch 31/50\n",
            "100/100 - 18s - loss: 0.0097 - acc: 0.9975 - val_loss: 0.0876 - val_acc: 0.9690 - 18s/epoch - 184ms/step\n",
            "Epoch 32/50\n",
            "100/100 - 17s - loss: 0.0154 - acc: 0.9950 - val_loss: 0.0818 - val_acc: 0.9700 - 17s/epoch - 174ms/step\n",
            "Epoch 33/50\n",
            "100/100 - 18s - loss: 0.0163 - acc: 0.9955 - val_loss: 0.0819 - val_acc: 0.9760 - 18s/epoch - 181ms/step\n",
            "Epoch 34/50\n",
            "100/100 - 18s - loss: 0.0218 - acc: 0.9935 - val_loss: 0.0791 - val_acc: 0.9700 - 18s/epoch - 175ms/step\n",
            "Epoch 35/50\n",
            "100/100 - 21s - loss: 0.0076 - acc: 0.9980 - val_loss: 0.0898 - val_acc: 0.9730 - 21s/epoch - 207ms/step\n",
            "Epoch 36/50\n",
            "100/100 - 18s - loss: 0.0059 - acc: 0.9975 - val_loss: 0.0873 - val_acc: 0.9740 - 18s/epoch - 180ms/step\n",
            "Epoch 37/50\n",
            "100/100 - 19s - loss: 0.0080 - acc: 0.9975 - val_loss: 0.1028 - val_acc: 0.9750 - 19s/epoch - 186ms/step\n",
            "Epoch 38/50\n",
            "100/100 - 18s - loss: 0.0065 - acc: 0.9975 - val_loss: 0.0988 - val_acc: 0.9770 - 18s/epoch - 177ms/step\n",
            "Epoch 39/50\n",
            "100/100 - 18s - loss: 0.0049 - acc: 0.9980 - val_loss: 0.1245 - val_acc: 0.9730 - 18s/epoch - 184ms/step\n",
            "Epoch 40/50\n",
            "100/100 - 19s - loss: 0.0149 - acc: 0.9945 - val_loss: 0.1240 - val_acc: 0.9660 - 19s/epoch - 186ms/step\n",
            "Epoch 41/50\n",
            "100/100 - 18s - loss: 0.0091 - acc: 0.9960 - val_loss: 0.1024 - val_acc: 0.9770 - 18s/epoch - 184ms/step\n",
            "Epoch 42/50\n",
            "100/100 - 18s - loss: 0.0087 - acc: 0.9980 - val_loss: 0.0880 - val_acc: 0.9700 - 18s/epoch - 177ms/step\n",
            "Epoch 43/50\n",
            "100/100 - 18s - loss: 0.0194 - acc: 0.9935 - val_loss: 0.1097 - val_acc: 0.9690 - 18s/epoch - 184ms/step\n",
            "Epoch 44/50\n",
            "100/100 - 18s - loss: 0.0052 - acc: 0.9975 - val_loss: 0.1143 - val_acc: 0.9700 - 18s/epoch - 176ms/step\n",
            "Epoch 45/50\n",
            "100/100 - 19s - loss: 0.0123 - acc: 0.9960 - val_loss: 0.1169 - val_acc: 0.9680 - 19s/epoch - 193ms/step\n",
            "Epoch 46/50\n",
            "100/100 - 18s - loss: 0.0126 - acc: 0.9950 - val_loss: 0.1288 - val_acc: 0.9680 - 18s/epoch - 180ms/step\n",
            "Epoch 47/50\n",
            "100/100 - 19s - loss: 0.0085 - acc: 0.9975 - val_loss: 0.1220 - val_acc: 0.9690 - 19s/epoch - 187ms/step\n",
            "Epoch 48/50\n",
            "100/100 - 18s - loss: 0.0122 - acc: 0.9955 - val_loss: 0.1305 - val_acc: 0.9730 - 18s/epoch - 178ms/step\n",
            "Epoch 49/50\n",
            "100/100 - 19s - loss: 0.0107 - acc: 0.9960 - val_loss: 0.1335 - val_acc: 0.9680 - 19s/epoch - 186ms/step\n",
            "Epoch 50/50\n",
            "100/100 - 18s - loss: 0.0080 - acc: 0.9985 - val_loss: 0.1349 - val_acc: 0.9660 - 18s/epoch - 176ms/step\n"
          ]
        }
      ],
      "source": [
        "history = model.fit_generator(\n",
        "      train_generator,\n",
        "      steps_per_epoch=100,\n",
        "      epochs=50,\n",
        "      validation_data=validation_generator,\n",
        "      validation_steps=50,\n",
        "      verbose=2)"
      ]
    },
    {
      "cell_type": "markdown",
      "metadata": {
        "id": "3EPGn58ofwq5"
      },
      "source": [
        "We are seeing a nice improvement, with the validation loss going from ~1.7 down to ~1.2, and accuracy going from 88% to 92%. That's a 4.5% relative improvement in accuracy.\n",
        "\n",
        "Let's plot the training and validation loss and accuracy to show it conclusively:"
      ]
    },
    {
      "cell_type": "code",
      "execution_count": 15,
      "metadata": {
        "colab": {
          "base_uri": "https://localhost:8080/",
          "height": 904
        },
        "id": "1FtxcKjJfxL9",
        "outputId": "23cadfd7-efce-4762-e5bd-c98ec88e2473"
      },
      "outputs": [
        {
          "output_type": "execute_result",
          "data": {
            "text/plain": [
              "Text(0.5, 1.0, 'Training and validation loss')"
            ]
          },
          "metadata": {},
          "execution_count": 15
        },
        {
          "output_type": "display_data",
          "data": {
            "text/plain": [
              "<Figure size 640x480 with 1 Axes>"
            ],
            "image/png": "[encoded data removed]"
          },
          "metadata": {}
        },
        {
          "output_type": "display_data",
          "data": {
            "text/plain": [
              "<Figure size 640x480 with 1 Axes>"
            ],
            "image/png": "[encoded data removed]"
          },
          "metadata": {}
        }
      ],
      "source": [
        "%matplotlib inline\n",
        "\n",
        "import matplotlib.pyplot as plt\n",
        "import matplotlib.image as mpimg\n",
        "\n",
        "# Retrieve a list of accuracy results on training and validation data\n",
        "# sets for each training epoch\n",
        "acc = history.history['acc']\n",
        "val_acc = history.history['val_acc']\n",
        "\n",
        "# Retrieve a list of list results on training and validation data\n",
        "# sets for each training epoch\n",
        "loss = history.history['loss']\n",
        "val_loss = history.history['val_loss']\n",
        "\n",
        "# Get number of epochs\n",
        "epochs = range(len(acc))\n",
        "\n",
        "# Plot training and validation accuracy per epoch\n",
        "plt.plot(epochs, acc)\n",
        "plt.plot(epochs, val_acc)\n",
        "plt.title('Training and validation accuracy')\n",
        "\n",
        "plt.figure()\n",
        "\n",
        "# Plot training and validation loss per epoch\n",
        "plt.plot(epochs, loss)\n",
        "plt.plot(epochs, val_loss)\n",
        "plt.title('Training and validation loss')"
      ]
    },
    {
      "cell_type": "markdown",
      "metadata": {
        "id": "X-fUIeizakjE"
      },
      "source": [
        "Congratulations! Using feature extraction and fine-tuning, you've built an image classification model that can identify cats vs. dogs in images with over 90% accuracy."
      ]
    },
    {
      "cell_type": "markdown",
      "metadata": {
        "id": "x_ANwJCnx7w-"
      },
      "source": [
        "## Clean Up\n",
        "\n",
        "Run the following cell to terminate the kernel and free memory resources:"
      ]
    },
    {
      "cell_type": "code",
      "execution_count": null,
      "metadata": {
        "id": "-hUmyohAyBzh"
      },
      "outputs": [],
      "source": [
        "import os, signal\n",
        "os.kill(os.getpid(), signal.SIGKILL)"
      ]
    }
  ],
  "metadata": {
    "accelerator": "GPU",
    "colab": {
      "collapsed_sections": [
        "jTEzoMx6CasV"
      ],
      "name": "image_classification_part3.ipynb",
      "provenance": []
    },
    "kernelspec": {
      "display_name": "Python 3",
      "name": "python3"
    }
  },
  "nbformat": 4,
  "nbformat_minor": 0
}